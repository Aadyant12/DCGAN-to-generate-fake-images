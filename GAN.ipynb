{
  "nbformat": 4,
  "nbformat_minor": 0,
  "metadata": {
    "accelerator": "GPU",
    "colab": {
      "name": "Copy of GAN.ipynb",
      "provenance": [],
      "collapsed_sections": [],
      "machine_shape": "hm",
      "mount_file_id": "1KZDLv5_CG_FBcHe7WurVCqFxn8fmFUov",
      "authorship_tag": "ABX9TyObwnXielUI1xBJfRczmJo9"
    },
    "kernelspec": {
      "display_name": "Python 3",
      "name": "python3"
    },
    "language_info": {
      "name": "python"
    }
  },
  "cells": [
    {
      "cell_type": "code",
      "metadata": {
        "id": "4Y-s6EPFTLiY"
      },
      "source": [
        "! pip install -q kaggle\n",
        "\n",
        "!kaggle datasets download -d andrewmvd/animal-faces\n",
        "\n",
        "! mkdir train\n",
        "\n",
        "! unzip animal-faces.zip -d train"
      ],
      "execution_count": null,
      "outputs": []
    },
    {
      "cell_type": "code",
      "metadata": {
        "colab": {
          "base_uri": "https://localhost:8080/"
        },
        "id": "nRLRimUnUJ9v",
        "outputId": "8fc7f1f8-2915-4c59-c95f-b364e49ae468"
      },
      "source": [
        "import os\n",
        "len(os.listdir('/content/train/afhq/train/wild'))"
      ],
      "execution_count": null,
      "outputs": [
        {
          "output_type": "execute_result",
          "data": {
            "text/plain": [
              "4738"
            ]
          },
          "metadata": {
            "tags": []
          },
          "execution_count": 1
        }
      ]
    },
    {
      "cell_type": "code",
      "metadata": {
        "id": "PbSNMfZ5TxjW"
      },
      "source": [
        "import numpy as np\n",
        "import pandas as pd\n",
        "from skimage.transform import resize\n",
        "import matplotlib.pyplot as plt\n",
        "import matplotlib.image as mpimg\n",
        "import tensorflow as tf"
      ],
      "execution_count": null,
      "outputs": []
    },
    {
      "cell_type": "code",
      "metadata": {
        "id": "ZtbNz1QaTzow"
      },
      "source": [
        "# Code to read images in matrix format\n",
        "\n",
        "def showimage(img_path):\n",
        "  img = mpimg.imread(img_path)\n",
        "  return img"
      ],
      "execution_count": null,
      "outputs": []
    },
    {
      "cell_type": "code",
      "metadata": {
        "colab": {
          "base_uri": "https://localhost:8080/"
        },
        "id": "TwNQw406T6oD",
        "outputId": "e173bc09-472c-4a30-d6a2-790e3b182d17"
      },
      "source": [
        "img = showimage('/content/train/afhq/train/wild/flickr_wild_000005.jpg')\n",
        "img.shape"
      ],
      "execution_count": null,
      "outputs": [
        {
          "output_type": "execute_result",
          "data": {
            "text/plain": [
              "(512, 512, 3)"
            ]
          },
          "metadata": {
            "tags": []
          },
          "execution_count": 4
        }
      ]
    },
    {
      "cell_type": "code",
      "metadata": {
        "id": "E32R3W33iCuW"
      },
      "source": [
        "# Code to create batches of data\n",
        "\n",
        "def make_dataset(batch_size):\n",
        "  numsets = len(os.listdir('/content/train/afhq/train/wild'))//batch_size\n",
        "  data = []\n",
        "  for i in range(numsets):\n",
        "    batch = []\n",
        "    for j in range(i*batch_size, (i+1)*batch_size):\n",
        "      choice = os.listdir('/content/train/afhq/train/wild')[j]\n",
        "      img = showimage(f'/content/train/afhq/train/wild/{choice}')\n",
        "      img = resize(img, (64, 64))\n",
        "      img = img.astype('float32')\n",
        "      batch.append(img)\n",
        "    data.append(np.array(batch))\n",
        "  return data"
      ],
      "execution_count": null,
      "outputs": []
    },
    {
      "cell_type": "code",
      "metadata": {
        "colab": {
          "base_uri": "https://localhost:8080/"
        },
        "id": "wc1jBiCRObfE",
        "outputId": "c42de11a-8916-4ae9-870a-6db031a0fd42"
      },
      "source": [
        "trydata = make_dataset(1)\n",
        "trydata[1]"
      ],
      "execution_count": null,
      "outputs": [
        {
          "output_type": "execute_result",
          "data": {
            "text/plain": [
              "array([[[[0.6901961 , 0.62352943, 0.54509807],\n",
              "         [0.6901961 , 0.62352943, 0.54509807],\n",
              "         [0.6901961 , 0.62352943, 0.54509807],\n",
              "         ...,\n",
              "         [0.67058825, 0.6       , 0.52156866],\n",
              "         [0.6627451 , 0.59607846, 0.5264706 ],\n",
              "         [0.65882355, 0.5921569 , 0.5254902 ]],\n",
              "\n",
              "        [[0.6901961 , 0.62352943, 0.54509807],\n",
              "         [0.6862745 , 0.61960787, 0.5411765 ],\n",
              "         [0.6862745 , 0.61960787, 0.5411765 ],\n",
              "         ...,\n",
              "         [0.6696078 , 0.6       , 0.51862746],\n",
              "         [0.6666667 , 0.6       , 0.51666665],\n",
              "         [0.6666667 , 0.6019608 , 0.5176471 ]],\n",
              "\n",
              "        [[0.6901961 , 0.62352943, 0.54509807],\n",
              "         [0.6882353 , 0.6215686 , 0.54313725],\n",
              "         [0.6862745 , 0.61960787, 0.5411765 ],\n",
              "         ...,\n",
              "         [0.67058825, 0.6       , 0.5137255 ],\n",
              "         [0.6666667 , 0.6       , 0.50980395],\n",
              "         [0.6666667 , 0.6       , 0.50784314]],\n",
              "\n",
              "        ...,\n",
              "\n",
              "        [[0.15686275, 0.14117648, 0.12058824],\n",
              "         [0.17941177, 0.15196079, 0.12352941],\n",
              "         [0.2382353 , 0.20490196, 0.18039216],\n",
              "         ...,\n",
              "         [0.74509805, 0.68039215, 0.5892157 ],\n",
              "         [0.7470588 , 0.67745095, 0.59607846],\n",
              "         [0.74215686, 0.67058825, 0.59117645]],\n",
              "\n",
              "        [[0.2882353 , 0.25686276, 0.23333333],\n",
              "         [0.27058825, 0.24019608, 0.21666667],\n",
              "         [0.2617647 , 0.23137255, 0.21568628],\n",
              "         ...,\n",
              "         [0.7607843 , 0.69411767, 0.59607846],\n",
              "         [0.7617647 , 0.69411767, 0.59607846],\n",
              "         [0.7490196 , 0.6784314 , 0.595098  ]],\n",
              "\n",
              "        [[0.32156864, 0.27450982, 0.27058825],\n",
              "         [0.19411765, 0.17745098, 0.16176471],\n",
              "         [0.16764706, 0.16176471, 0.14117648],\n",
              "         ...,\n",
              "         [0.77254903, 0.7058824 , 0.60784316],\n",
              "         [0.7627451 , 0.69509804, 0.59607846],\n",
              "         [0.7490196 , 0.6784314 , 0.59607846]]]], dtype=float32)"
            ]
          },
          "metadata": {
            "tags": []
          },
          "execution_count": 134
        }
      ]
    },
    {
      "cell_type": "code",
      "metadata": {
        "colab": {
          "base_uri": "https://localhost:8080/",
          "height": 285
        },
        "id": "wE0c50PfiCr8",
        "outputId": "bd26aaba-fcf3-4eba-a358-8562180e2ab4"
      },
      "source": [
        "plt.imshow(trydata[1][0])"
      ],
      "execution_count": null,
      "outputs": [
        {
          "output_type": "execute_result",
          "data": {
            "text/plain": [
              "<matplotlib.image.AxesImage at 0x7f46000ed6d0>"
            ]
          },
          "metadata": {
            "tags": []
          },
          "execution_count": 142
        },
        {
          "output_type": "display_data",
          "data": {
            "image/png": "[encoded data removed]",
            "text/plain": [
              "<Figure size 432x288 with 1 Axes>"
            ]
          },
          "metadata": {
            "tags": []
          }
        }
      ]
    },
    {
      "cell_type": "code",
      "metadata": {
        "id": "MQKnqYS3VsQM"
      },
      "source": [
        "from tensorflow.keras.layers import Conv2D, Activation, BatchNormalization, Flatten, Dense, Conv2DTranspose, Reshape, LeakyReLU, GlobalAveragePooling2D, Dropout\n",
        "from tensorflow.keras import Model, Input\n",
        "from tensorflow.keras.optimizers import Adam"
      ],
      "execution_count": null,
      "outputs": []
    },
    {
      "cell_type": "code",
      "metadata": {
        "id": "gTzUbS-zukRg"
      },
      "source": [
        "# Code to create the discriminator model for differentiating between real and fake images\n",
        "\n",
        "def discriminator():\n",
        "  def block(x, filters):\n",
        "    x = Conv2D(filters=filters, kernel_size=(5,5), strides=(2,2), padding='same')(x)\n",
        "    x = LeakyReLU(alpha=0.2)(x)\n",
        "    x = Dropout(0.3)(x)\n",
        "    return x\n",
        "  \n",
        "  input = Input(shape = (64,64,3))\n",
        "  x = block(input, 32)\n",
        "  x = block(x, 64)\n",
        "  x = block(x, 128)\n",
        "  x = block(x, 256)\n",
        "  x = Flatten()(x)\n",
        "  final = Dense(1, activation='sigmoid')(x)\n",
        "\n",
        "  model = Model(inputs = input , outputs = final)\n",
        "\n",
        "  return model"
      ],
      "execution_count": null,
      "outputs": []
    },
    {
      "cell_type": "code",
      "metadata": {
        "colab": {
          "base_uri": "https://localhost:8080/"
        },
        "id": "BzWAT-Mx0n-P",
        "outputId": "b6807bf8-0b8d-4454-e0ee-5e0147db79e3"
      },
      "source": [
        "dis_model = discriminator()\n",
        "dis_model.summary()"
      ],
      "execution_count": null,
      "outputs": [
        {
          "output_type": "stream",
          "text": [
            "Model: \"model\"\n",
            "_________________________________________________________________\n",
            "Layer (type)                 Output Shape              Param #   \n",
            "=================================================================\n",
            "input_1 (InputLayer)         [(None, 64, 64, 3)]       0         \n",
            "_________________________________________________________________\n",
            "conv2d (Conv2D)              (None, 32, 32, 32)        2432      \n",
            "_________________________________________________________________\n",
            "leaky_re_lu (LeakyReLU)      (None, 32, 32, 32)        0         \n",
            "_________________________________________________________________\n",
            "dropout (Dropout)            (None, 32, 32, 32)        0         \n",
            "_________________________________________________________________\n",
            "conv2d_1 (Conv2D)            (None, 16, 16, 64)        51264     \n",
            "_________________________________________________________________\n",
            "leaky_re_lu_1 (LeakyReLU)    (None, 16, 16, 64)        0         \n",
            "_________________________________________________________________\n",
            "dropout_1 (Dropout)          (None, 16, 16, 64)        0         \n",
            "_________________________________________________________________\n",
            "conv2d_2 (Conv2D)            (None, 8, 8, 128)         204928    \n",
            "_________________________________________________________________\n",
            "leaky_re_lu_2 (LeakyReLU)    (None, 8, 8, 128)         0         \n",
            "_________________________________________________________________\n",
            "dropout_2 (Dropout)          (None, 8, 8, 128)         0         \n",
            "_________________________________________________________________\n",
            "conv2d_3 (Conv2D)            (None, 4, 4, 256)         819456    \n",
            "_________________________________________________________________\n",
            "leaky_re_lu_3 (LeakyReLU)    (None, 4, 4, 256)         0         \n",
            "_________________________________________________________________\n",
            "dropout_3 (Dropout)          (None, 4, 4, 256)         0         \n",
            "_________________________________________________________________\n",
            "flatten (Flatten)            (None, 4096)              0         \n",
            "_________________________________________________________________\n",
            "dense (Dense)                (None, 1)                 4097      \n",
            "=================================================================\n",
            "Total params: 1,082,177\n",
            "Trainable params: 1,082,177\n",
            "Non-trainable params: 0\n",
            "_________________________________________________________________\n"
          ],
          "name": "stdout"
        }
      ]
    },
    {
      "cell_type": "code",
      "metadata": {
        "id": "nNuPL79ci-Za"
      },
      "source": [
        "# Code to create the generator model for for creating fake images\n",
        "\n",
        "def generator():\n",
        "  def block(x, filters, strides = 4):\n",
        "    x = Conv2DTranspose(filters=filters, kernel_size=(5,5), strides=(strides,strides), padding='same', activation = 'selu')(x)\n",
        "    x = BatchNormalization()(x)\n",
        "    return x\n",
        "\n",
        "  input = Input(shape = (50, ))\n",
        "  x = Dense(8*8*64)(input)\n",
        "  x = Reshape((8, 8, 64))(x)\n",
        "  x = block(x, 32)\n",
        "  final = Conv2DTranspose(filters=3, kernel_size=(5,5), strides=(2,2), padding='same', activation = 'tanh')(x)\n",
        "\n",
        "  model = Model(inputs = input , outputs = final)\n",
        "\n",
        "  return model"
      ],
      "execution_count": null,
      "outputs": []
    },
    {
      "cell_type": "code",
      "metadata": {
        "colab": {
          "base_uri": "https://localhost:8080/"
        },
        "id": "6tn6ezFHpczN",
        "outputId": "45012187-47bc-4716-cb29-6fda14291195"
      },
      "source": [
        "gen_model = generator()\n",
        "gen_model.summary()"
      ],
      "execution_count": null,
      "outputs": [
        {
          "output_type": "stream",
          "text": [
            "Model: \"model_1\"\n",
            "_________________________________________________________________\n",
            "Layer (type)                 Output Shape              Param #   \n",
            "=================================================================\n",
            "input_2 (InputLayer)         [(None, 50)]              0         \n",
            "_________________________________________________________________\n",
            "dense_1 (Dense)              (None, 4096)              208896    \n",
            "_________________________________________________________________\n",
            "reshape (Reshape)            (None, 8, 8, 64)          0         \n",
            "_________________________________________________________________\n",
            "conv2d_transpose (Conv2DTran (None, 32, 32, 32)        51232     \n",
            "_________________________________________________________________\n",
            "batch_normalization (BatchNo (None, 32, 32, 32)        128       \n",
            "_________________________________________________________________\n",
            "conv2d_transpose_1 (Conv2DTr (None, 64, 64, 3)         2403      \n",
            "=================================================================\n",
            "Total params: 262,659\n",
            "Trainable params: 262,595\n",
            "Non-trainable params: 64\n",
            "_________________________________________________________________\n"
          ],
          "name": "stdout"
        }
      ]
    },
    {
      "cell_type": "code",
      "metadata": {
        "colab": {
          "base_uri": "https://localhost:8080/",
          "height": 285
        },
        "id": "AQkl-lOOjvjn",
        "outputId": "a54abc29-2c79-4c38-dcf8-b9987609768d"
      },
      "source": [
        "# Here we can see that the generator model generates just noise initially without any training\n",
        "\n",
        "noise = tf.random.normal(shape = [1, 50])\n",
        "plt.imshow((gen_model(noise)[0]+1)/2)"
      ],
      "execution_count": null,
      "outputs": [
        {
          "output_type": "execute_result",
          "data": {
            "text/plain": [
              "<matplotlib.image.AxesImage at 0x7fc47e2d2490>"
            ]
          },
          "metadata": {
            "tags": []
          },
          "execution_count": 12
        },
        {
          "output_type": "display_data",
          "data": {
            "image/png": "[encoded data removed]",
            "text/plain": [
              "<Figure size 432x288 with 1 Axes>"
            ]
          },
          "metadata": {
            "tags": [],
            "needs_background": "light"
          }
        }
      ]
    },
    {
      "cell_type": "code",
      "metadata": {
        "colab": {
          "base_uri": "https://localhost:8080/"
        },
        "id": "Cpr1EM5pUSaw",
        "outputId": "83eedb2a-3db2-4398-8fd7-f2f6faba78b6"
      },
      "source": [
        "# Here we can see that the discriminator model cannot distinguish between real and fake images without any training\n",
        "\n",
        "dis_model(gen_model(noise))"
      ],
      "execution_count": null,
      "outputs": [
        {
          "output_type": "execute_result",
          "data": {
            "text/plain": [
              "<tf.Tensor: shape=(1, 1), dtype=float32, numpy=array([[0.50001556]], dtype=float32)>"
            ]
          },
          "metadata": {
            "tags": []
          },
          "execution_count": 13
        }
      ]
    },
    {
      "cell_type": "code",
      "metadata": {
        "colab": {
          "base_uri": "https://localhost:8080/"
        },
        "id": "U3MneHO7NTYD",
        "outputId": "9274bf64-c5c8-4744-fd78-efcbcfd781b3"
      },
      "source": [
        "# Here we assemble the discriminator and generator models to create the GAN model consisting of both\n",
        "\n",
        "input = Input(shape = (50, ))\n",
        "\n",
        "dis_model.compile(loss='binary_crossentropy', optimizer='rmsprop')\n",
        "dis_model.trainable = False\n",
        "\n",
        "x = gen_model(input)\n",
        "final = dis_model(x)\n",
        "\n",
        "gan_model = Model(inputs = input, outputs = final)\n",
        "\n",
        "gan_model.compile(loss = 'binary_crossentropy', optimizer = 'rmsprop', metrics=['accuracy'])\n",
        "\n",
        "gan_model.summary()"
      ],
      "execution_count": null,
      "outputs": [
        {
          "output_type": "stream",
          "text": [
            "Model: \"model_2\"\n",
            "_________________________________________________________________\n",
            "Layer (type)                 Output Shape              Param #   \n",
            "=================================================================\n",
            "input_3 (InputLayer)         [(None, 50)]              0         \n",
            "_________________________________________________________________\n",
            "model_1 (Functional)         (None, 64, 64, 3)         262659    \n",
            "_________________________________________________________________\n",
            "model (Functional)           (None, 1)                 1082177   \n",
            "=================================================================\n",
            "Total params: 1,344,836\n",
            "Trainable params: 262,595\n",
            "Non-trainable params: 1,082,241\n",
            "_________________________________________________________________\n"
          ],
          "name": "stdout"
        }
      ]
    },
    {
      "cell_type": "code",
      "metadata": {
        "colab": {
          "base_uri": "https://localhost:8080/"
        },
        "id": "GTrtaZASN-_y",
        "outputId": "efd78987-ce50-4a8a-ac1e-0f07b9e543a6"
      },
      "source": [
        "gan_model.layers"
      ],
      "execution_count": null,
      "outputs": [
        {
          "output_type": "execute_result",
          "data": {
            "text/plain": [
              "[<tensorflow.python.keras.engine.input_layer.InputLayer at 0x7fc47e198f90>,\n",
              " <tensorflow.python.keras.engine.functional.Functional at 0x7fc47e2b17d0>,\n",
              " <tensorflow.python.keras.engine.functional.Functional at 0x7fc47e2e36d0>]"
            ]
          },
          "metadata": {
            "tags": []
          },
          "execution_count": 15
        }
      ]
    },
    {
      "cell_type": "code",
      "metadata": {
        "id": "tGzcUSobl6UR"
      },
      "source": [
        "from numpy import vstack"
      ],
      "execution_count": null,
      "outputs": []
    },
    {
      "cell_type": "code",
      "metadata": {
        "id": "MILoAb2lQqcP"
      },
      "source": [
        "batch_size = 64\n",
        "data = make_dataset(batch_size)"
      ],
      "execution_count": null,
      "outputs": []
    },
    {
      "cell_type": "code",
      "metadata": {
        "id": "917Hl6UOaH4T"
      },
      "source": [
        "total_steps = 500\n",
        "epochs = 1\n",
        "improvement = []"
      ],
      "execution_count": null,
      "outputs": []
    },
    {
      "cell_type": "code",
      "metadata": {
        "id": "Amn-DZgvA2lU"
      },
      "source": [
        "# Training the GAN model\n",
        "\n",
        "for step in range(total_steps):\n",
        "  i = 1\n",
        "  for realX in data:\n",
        "    realY = np.ones((batch_size, 1))            # Correct y value for real images\n",
        "\n",
        "    noise = tf.random.normal(shape = [batch_size, 50])\n",
        "    fakeX = gen_model(noise)                    # Generating fake images  \n",
        "    fakeY = np.zeros((batch_size, 1))           # Correct y value for fake images\n",
        "\n",
        "    x, y = vstack((realX, fakeX)), vstack((realY, fakeY))\n",
        "\n",
        "    gan_model.layers[2].trainable = True\n",
        "    gan_model.layers[2].train_on_batch(x, y)    # Training just the discriminator model\n",
        "\n",
        "    gan_model.layers[2].trainable = False\n",
        "  \n",
        "    for _ in range(epochs):\n",
        "      gan_model.train_on_batch(noise, realY)    # Training the whole GAN model after making dicriminator model untrainable => only the generator model will train\n",
        "\n",
        "    print(f'Set {i} done')\n",
        "    i += 1\n",
        "  \n",
        "  if ((step+1)%50 == 0):                        # Saving every 50th image\n",
        "    improvement.append(gan_model.layers[1](noise)[0])\n",
        "\n",
        "  print(step+1, ' step done')"
      ],
      "execution_count": null,
      "outputs": []
    },
    {
      "cell_type": "code",
      "metadata": {
        "colab": {
          "base_uri": "https://localhost:8080/"
        },
        "id": "6Byg3HPqNEDP",
        "outputId": "55e9991d-a91d-40ce-99d1-a1c1f786f3f5"
      },
      "source": [
        "len(improvement)"
      ],
      "execution_count": null,
      "outputs": [
        {
          "output_type": "execute_result",
          "data": {
            "text/plain": [
              "10"
            ]
          },
          "metadata": {
            "tags": []
          },
          "execution_count": 37
        }
      ]
    },
    {
      "cell_type": "code",
      "metadata": {
        "id": "vflp9PFqOe-a",
        "colab": {
          "base_uri": "https://localhost:8080/",
          "height": 285
        },
        "outputId": "a823fc91-1a65-49b3-ce6e-b3dc30d2ae8f"
      },
      "source": [
        "plt.imshow((improvement[-1]+1)/2)"
      ],
      "execution_count": null,
      "outputs": [
        {
          "output_type": "execute_result",
          "data": {
            "text/plain": [
              "<matplotlib.image.AxesImage at 0x7fc3d08af1d0>"
            ]
          },
          "metadata": {
            "tags": []
          },
          "execution_count": 38
        },
        {
          "output_type": "display_data",
          "data": {
            "image/png": "[encoded data removed]",
            "text/plain": [
              "<Figure size 432x288 with 1 Axes>"
            ]
          },
          "metadata": {
            "tags": [],
            "needs_background": "light"
          }
        }
      ]
    },
    {
      "cell_type": "code",
      "metadata": {
        "colab": {
          "base_uri": "https://localhost:8080/",
          "height": 285
        },
        "id": "EdI-Q4MuCPvK",
        "outputId": "3f9815aa-8bab-47d6-9910-dbca87257a24"
      },
      "source": [
        "plt.imshow((gan_model.layers[1](tf.random.normal(shape = [1, 50]))[-1]+1)/2)"
      ],
      "execution_count": null,
      "outputs": [
        {
          "output_type": "execute_result",
          "data": {
            "text/plain": [
              "<matplotlib.image.AxesImage at 0x7fc3d252fe90>"
            ]
          },
          "metadata": {
            "tags": []
          },
          "execution_count": 46
        },
        {
          "output_type": "display_data",
          "data": {
            "image/png": "[encoded data removed]",
            "text/plain": [
              "<Figure size 432x288 with 1 Axes>"
            ]
          },
          "metadata": {
            "tags": [],
            "needs_background": "light"
          }
        }
      ]
    },
    {
      "cell_type": "code",
      "metadata": {
        "id": "zTHWWJugonzr"
      },
      "source": [
        "gan_model.save(\"/GAN/GAN_model.h5\")"
      ],
      "execution_count": null,
      "outputs": []
    },
    {
      "cell_type": "code",
      "metadata": {
        "colab": {
          "base_uri": "https://localhost:8080/",
          "height": 285
        },
        "id": "eeVJmYI5ieQL",
        "outputId": "5292cf67-0ff0-4212-db65-2e93386ae94e"
      },
      "source": [
        "#Code to generate fake image from saved model\n",
        "\n",
        "from keras.models import load_model\n",
        " \n",
        "# load model\n",
        "model = load_model('/GAN/GAN_model.h5')\n",
        "\n",
        "import matplotlib.pyplot as plt\n",
        "import tensorflow as tf\n",
        "\n",
        "plt.imshow((model.layers[1](tf.random.normal(shape = [1, 50]))[-1]+1)/2)"
      ],
      "execution_count": null,
      "outputs": [
        {
          "output_type": "execute_result",
          "data": {
            "text/plain": [
              "<matplotlib.image.AxesImage at 0x7f548255c290>"
            ]
          },
          "metadata": {},
          "execution_count": 15
        },
        {
          "output_type": "display_data",
          "data": {
            "image/png": "[encoded data removed]",
            "text/plain": [
              "<Figure size 432x288 with 1 Axes>"
            ]
          },
          "metadata": {
            "needs_background": "light"
          }
        }
      ]
    }
  ]
}